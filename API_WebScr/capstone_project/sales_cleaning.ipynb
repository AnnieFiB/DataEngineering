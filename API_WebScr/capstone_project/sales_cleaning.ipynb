{
 "cells": [
  {
   "cell_type": "markdown",
   "id": "cbc48386",
   "metadata": {},
   "source": [
    "| Situation                                                         | Why `spark-submit` is better                       |\n",
    "| ----------------------------------------------------------------- | -------------------------------------------------- |\n",
    "| Running on a Spark **cluster** (e.g., YARN, Mesos)                | `spark-submit` handles cluster resource management |\n",
    "| You need to pass Spark **configs** (e.g., memory, executor cores) | Cleaner and more standardized                      |\n",
    "| Using **.jar dependencies** or submitting Spark jobs from scripts | Required                                           |\n",
    "| Scheduling **long-running jobs** or running in **production**     | More robust and scalable                           |\n"
   ]
  },
  {
   "cell_type": "code",
   "execution_count": 1,
   "id": "71d827a2",
   "metadata": {},
   "outputs": [],
   "source": [
    "from pyspark.sql import SparkSession \n",
    "from pyspark.sql.functions import col, monotonically_increasing_id"
   ]
  },
  {
   "cell_type": "code",
   "execution_count": 2,
   "id": "2ebfbab4",
   "metadata": {},
   "outputs": [
    {
     "data": {
      "text/html": [
       "\n",
       "            <div>\n",
       "                <p><b>SparkSession - in-memory</b></p>\n",
       "                \n",
       "        <div>\n",
       "            <p><b>SparkContext</b></p>\n",
       "\n",
       "            <p><a href=\"http://AnnieMona:4040\">Spark UI</a></p>\n",
       "\n",
       "            <dl>\n",
       "              <dt>Version</dt>\n",
       "                <dd><code>v3.5.5</code></dd>\n",
       "              <dt>Master</dt>\n",
       "                <dd><code>local[*]</code></dd>\n",
       "              <dt>AppName</dt>\n",
       "                <dd><code>alibabaScrape</code></dd>\n",
       "            </dl>\n",
       "        </div>\n",
       "        \n",
       "            </div>\n",
       "        "
      ],
      "text/plain": [
       "<pyspark.sql.session.SparkSession at 0x26964ea1510>"
      ]
     },
     "execution_count": 2,
     "metadata": {},
     "output_type": "execute_result"
    }
   ],
   "source": [
    "# Initialise  Spark Session\n",
    "spark = SparkSession.builder.appName('alibabaScrape')\\\n",
    ".getOrCreate()\n",
    "spark"
   ]
  },
  {
   "cell_type": "code",
   "execution_count": 3,
   "id": "decae0ba",
   "metadata": {},
   "outputs": [
    {
     "name": "stdout",
     "output_type": "stream",
     "text": [
      "+--------------------+--------------------+------------------+-------+-------------+--------------------+\n",
      "|                link|               title|             price|    moq|  amount_sold|        manufacturer|\n",
      "+--------------------+--------------------+------------------+-------+-------------+--------------------+\n",
      "|https://www.aliba...|100m 300m 500m 60...|    US$3,000-4,000|  1 set|      13 sold|Jining Hengwang M...|\n",
      "|https://www.aliba...|Multi-Purpose Aut...|    US$2,700-2,941|1 piece|No sales data|Guangzhou Tengzhu...|\n",
      "|https://www.aliba...|Automated 1.5KW 3...|   US$9,600-18,800|  1 set|No sales data|Zibo Jinxin Laser...|\n",
      "|https://www.aliba...|Cheap Factory Pri...|          US$3,650|  1 set|No sales data|Dongguan Shengtai...|\n",
      "|https://www.aliba...|BKBK01 Full Autom...|  US$21,500-27,500|  1 set|      18 sold|Shanghai Ok Machi...|\n",
      "|https://www.aliba...|Large CapacityInd...|  US$10,000-50,000|  1 set|No sales data|Zhangjiagang Huib...|\n",
      "|https://www.aliba...|2025 Hot Sale 20k...|US$162,888-164,888|  1 set|No sales data|Xuzhou Ritman Equ...|\n",
      "|https://www.aliba...|Great Top Perform...|          US$1,800|  1 set|No sales data|Jining Yuanheng M...|\n",
      "|https://www.aliba...|200m 300m Drillin...|    US$1,000-1,200|  1 set|      13 sold|Jining Luheng Mac...|\n",
      "|https://www.aliba...|ZTM QC11Y 4*3200 ...|    US$5,850-6,000|  1 set|No sales data|Maanshan ZTMT Mac...|\n",
      "|https://www.aliba...|SUNWARD SWL4358 W...|          US$5,367|  1 set|No sales data|Sunward Intellige...|\n",
      "|https://www.aliba...|Industrialair Com...|        US$800-999|  1 set|No sales data|Shandong Ruihong ...|\n",
      "|https://www.aliba...|IndustrialOne-Arm...|          US$3,500|  1 set|No sales data|Shandong Mingdao ...|\n",
      "|https://www.aliba...|Automatic Electri...|    US$1,700-1,800|1 piece|No sales data|Suzhou Xingkesen ...|\n",
      "|https://www.aliba...|Custom Design Alu...|          US$3,000|  1 set|No sales data|Ruian Mingyuan Ma...|\n",
      "|https://www.aliba...|Stainless Steel 3...|        US$610-700|  1 set|No sales data|Henan Qingyi Inte...|\n",
      "|https://www.aliba...|Electric Forklift...|          US$2,100|1 piece|       6 sold|Shandong Newrick ...|\n",
      "|https://www.aliba...|High Quality Mult...|    US$1,030-1,279|  1 set|No sales data|Hangzhou Lansing ...|\n",
      "|https://www.aliba...|High Efficiency 1...|  US$44,000-48,000|1 piece|No sales data|Jinan Xintian Tec...|\n",
      "|https://www.aliba...|IndustrialOnline ...|    US$2,199-3,999|1 piece|No sales data|Guangzhou Yuhang ...|\n",
      "+--------------------+--------------------+------------------+-------+-------------+--------------------+\n",
      "only showing top 20 rows\n",
      "\n"
     ]
    }
   ],
   "source": [
    "df= spark.read.csv(\"industrial_machinery_products_all.csv\", header=True, inferSchema=True)\n",
    "df.show()"
   ]
  },
  {
   "cell_type": "code",
   "execution_count": 5,
   "id": "061e2158",
   "metadata": {},
   "outputs": [
    {
     "name": "stdout",
     "output_type": "stream",
     "text": [
      "root\n",
      " |-- link: string (nullable = true)\n",
      " |-- title: string (nullable = true)\n",
      " |-- price: string (nullable = true)\n",
      " |-- moq: string (nullable = true)\n",
      " |-- amount_sold: string (nullable = true)\n",
      " |-- manufacturer: string (nullable = true)\n",
      "\n"
     ]
    }
   ],
   "source": [
    "df.printSchema()"
   ]
  },
  {
   "cell_type": "code",
   "execution_count": null,
   "id": "3d59ee20",
   "metadata": {},
   "outputs": [],
   "source": []
  },
  {
   "cell_type": "code",
   "execution_count": 7,
   "id": "879b8185",
   "metadata": {},
   "outputs": [],
   "source": [
    "spark.stop()"
   ]
  }
 ],
 "metadata": {
  "kernelspec": {
   "display_name": "pyspark-env",
   "language": "python",
   "name": "python3"
  },
  "language_info": {
   "codemirror_mode": {
    "name": "ipython",
    "version": 3
   },
   "file_extension": ".py",
   "mimetype": "text/x-python",
   "name": "python",
   "nbconvert_exporter": "python",
   "pygments_lexer": "ipython3",
   "version": "3.11.5"
  }
 },
 "nbformat": 4,
 "nbformat_minor": 5
}
