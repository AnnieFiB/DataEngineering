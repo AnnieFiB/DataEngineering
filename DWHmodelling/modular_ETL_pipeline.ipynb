{
 "cells": [
  {
   "cell_type": "markdown",
   "id": "c7e04357-670d-49b0-8ae3-ebda9fa21a01",
   "metadata": {},
   "source": [
    "# A Modular ETL Pipeline Using Python & PostgreSQL"
   ]
  },
  {
   "cell_type": "markdown",
   "id": "528868ef-c588-4de2-8ea6-3160e2f423c3",
   "metadata": {},
   "source": [
    "## Load library and dependencies"
   ]
  },
  {
   "cell_type": "code",
   "execution_count": null,
   "id": "00a82a33-20d8-456b-a97b-dbf50c7991d3",
   "metadata": {},
   "outputs": [],
   "source": [
    "# Import dependencies\n",
    "import pandas as pd\n",
    "from IPython.display import display\n",
    "import sys, os\n",
    "from pathlib import Path\n",
    "#sys.path.append(str(Path.cwd().parent)) # Add parent directory\n",
    "#sys.path.append(\"../../scripts\")\n",
    "from dynamic_etl_pipeline import *\n",
    "\n",
    "print(\"✅ Environment ready!\")"
   ]
  },
  {
   "cell_type": "markdown",
   "id": "d18a24d5-9b46-4084-96f6-4899091d29ef",
   "metadata": {},
   "source": [
    "## Extract (Load Raw Data)"
   ]
  },
  {
   "cell_type": "code",
   "execution_count": null,
   "id": "83a7c8ea-1b07-4940-9e14-7705e60c59fd",
   "metadata": {
    "scrolled": true
   },
   "outputs": [],
   "source": [
    "# Trigger interactive source selection\n",
    "result = select_and_load_source(ETL_CONFIG)"
   ]
  },
  {
   "cell_type": "code",
   "execution_count": null,
   "id": "0a62aec3-ec45-4795-a655-2c158e7be08d",
   "metadata": {},
   "outputs": [],
   "source": [
    "print(f\"ℹ️ Using global raw_df, cfg & dataset_key for selected_source : {dataset_key}\")"
   ]
  },
  {
   "cell_type": "markdown",
   "id": "4abfc727-b658-4b3e-9722-745451c596ed",
   "metadata": {},
   "source": [
    "## Transform (Data Cleaning & Normalisation)"
   ]
  },
  {
   "cell_type": "code",
   "execution_count": null,
   "id": "cd2ca98c-5d8e-4025-8250-487ecfae073b",
   "metadata": {
    "jupyter": {
     "source_hidden": true
    },
    "scrolled": true
   },
   "outputs": [],
   "source": [
    "raw_df.nunique()"
   ]
  },
  {
   "cell_type": "markdown",
   "id": "6af7c4bf-a361-4c29-9522-b6d55cc7e83a",
   "metadata": {
    "jp-MarkdownHeadingCollapsed": true
   },
   "source": [
    "### Cleaning Steps for Data Modeling & Normalization"
   ]
  },
  {
   "cell_type": "markdown",
   "id": "05329763-b3dd-4ea1-b3c9-22dac246f7fd",
   "metadata": {},
   "source": [
    "| Step                         | Action                                                                                       | Purpose                                                       |\n",
    "|------------------------------|----------------------------------------------------------------------------------------------|----------------------------------------------------------------|\n",
    "| 1. Handle Missing Values     | - Drop rows with missing `Order_ID`, `Customer_ID`                      | These are core entity identifiers; nulls would break relationships |\n",
    "|                              | - Optionally handle or impute 1 missing value in `State`                                    | Tolerable since it's likely a lookup/dimension table           |\n",
    "| 2. Ensure Correct Data Types | - Convert `Order_Date` to datetime format                                                   | Enables partitioning and relationship with a Date dimension   |\n",
    "|                              | - Ensure `Postal_Code` is treated as string if needed (for leading zeros)                   | Maintains data integrity, especially in US/UK postal codes     |\n",
    "| 3. Remove Duplicates         | - Check for and drop duplicates in `Order_ID`, `Product_ID`, `Customer_ID` combinations     | Avoids redundant relationships or many-to-many mapping noise   |\n",
    "| 4. Standardize Categorical Fields | - Lowercase and strip spaces in fields like `Category`, `Brand`, `Payment_Method`       | Ensures consistency across joins or dimensions                 |\n",
    "| 5. Verify Key Relationships  | - Ensure 1:many mappings exist: `Customer` → `Order`, `Order` → `Product`                  | For proper normalization and referential integrity             |\n",
    "| 6. Normalize Derived Fields  | - Confirm `Total_Price = Price * Quantity` or drop `Total_Price` if calculated later        | Avoid storing redundant calculations in normalized schema      |\n",
    "| 7. Split Compound Columns    | - Split `Customer_Name` into `First_Name` and `Last_Name`                       | Improves normalization (optional but good practice)            |\n",
    "| 8. Validate Contact Info     | - Basic regex or null check on `Email`, `Phone_Number`                                     | Prevent invalid records from entering DB                       |\n"
   ]
  },
  {
   "cell_type": "markdown",
   "id": "63011faa-6903-4a61-8bee-20fd78c24b84",
   "metadata": {
    "jp-MarkdownHeadingCollapsed": true
   },
   "source": [
    "### **Data Modelling (Raw → OLTP → OLAP)**"
   ]
  },
  {
   "cell_type": "markdown",
   "id": "9faa1046-6070-4678-a540-b4f2a2ed7e77",
   "metadata": {},
   "source": [
    "#### **Data Model**\n",
    "*Splitting the data into normalized tables like:*  `Customers`, `Products`, `Orders`, `Location`, `Payments`"
   ]
  },
  {
   "cell_type": "markdown",
   "id": "a671e1c1-b541-4a20-aa23-3bd5b43e47bb",
   "metadata": {},
   "source": [
    "![zulobank](modeldesign/design_lucidchart_zulodb.png)\n",
    "\n",
    "![yankiecom](modeldesign/design_drawio_yankidb.png)"
   ]
  },
  {
   "cell_type": "markdown",
   "id": "252728e7-6992-4d73-9e9c-7d6fc2b374a9",
   "metadata": {},
   "source": [
    "### Clean & Normalise df to 3NF Tables"
   ]
  },
  {
   "cell_type": "code",
   "execution_count": null,
   "id": "b6083e3b-8039-41e8-8744-75cf919e2dbe",
   "metadata": {
    "scrolled": true
   },
   "outputs": [],
   "source": [
    "# Clean, split to normalised tables, check for missing pks and insert missing fk from config\n",
    "oltp_tables, pk_dict, fk_dict, sk_dict = transform_oltp(dataset_key, cfg, raw_df)"
   ]
  },
  {
   "cell_type": "markdown",
   "id": "71a23f7d-2808-490d-8094-2af18a4902fa",
   "metadata": {},
   "source": [
    "### Inspect OLTP tables to be created in the DB"
   ]
  },
  {
   "cell_type": "code",
   "execution_count": null,
   "id": "02dde28a-37c6-4ac1-98bf-5bcee1e5ec26",
   "metadata": {
    "scrolled": true
   },
   "outputs": [],
   "source": [
    "# Visualize and inspect all OLTP tables\n",
    "display_database_info(oltp_tables, pk_dict, fk_dict, sk_dict)"
   ]
  },
  {
   "cell_type": "markdown",
   "id": "b92787ea-2870-4ccf-9973-8a1a1f347767",
   "metadata": {},
   "source": [
    "### Save normalised tables to csv (optional)"
   ]
  },
  {
   "cell_type": "code",
   "execution_count": null,
   "id": "83b814d3-7fe1-4a84-93ba-af2b2e3123c1",
   "metadata": {
    "scrolled": true
   },
   "outputs": [],
   "source": [
    "#save_tables_to_csv(tables=oltp_tables, export_dir=\"dataset/\")"
   ]
  },
  {
   "cell_type": "markdown",
   "id": "162fceb0-adc8-4ea3-8491-6b5619cb6304",
   "metadata": {},
   "source": [
    "## Load to postgreSQL"
   ]
  },
  {
   "cell_type": "markdown",
   "id": "6ca48c9d-0b3d-422f-9c9f-28b0b5fa76aa",
   "metadata": {},
   "source": [
    "### DB CONNECTION"
   ]
  },
  {
   "cell_type": "code",
   "execution_count": null,
   "id": "e320b1dd-62ca-4183-9be4-0b6f8b4efc0b",
   "metadata": {},
   "outputs": [],
   "source": [
    "conn = get_db_connection(env_prefix=\"YANKI_DB_\") # YANKI_DB_ , ZULO_DB_"
   ]
  },
  {
   "cell_type": "markdown",
   "id": "59a86d1a-da8e-4e15-8b90-87b783cc1839",
   "metadata": {},
   "source": [
    "### Run ETL Pipeline (OLTP /OLAP)"
   ]
  },
  {
   "cell_type": "code",
   "execution_count": null,
   "id": "ffe2336d-2c91-4513-a20d-30943b187eaf",
   "metadata": {
    "jupyter": {
     "source_hidden": true
    },
    "scrolled": true
   },
   "outputs": [],
   "source": [
    "result = run_dynamic_etl_pipeline(conn, dataset_key, raw_df, cfg, oltp_tables,pk_dict,fk_dict,sk_dict)\n",
    "print(result)"
   ]
  },
  {
   "cell_type": "code",
   "execution_count": null,
   "id": "f84091a2-1848-4fa8-b41d-5cbfaba44033",
   "metadata": {},
   "outputs": [],
   "source": [
    "if result[\"success\"]:\n",
    "    if \"olap\" not in cfg:\n",
    "        print(\"✅ OLTP pipeline completed. No OLAP schema configured.\")\n",
    "    else:\n",
    "        display_olap_info(conn, cfg)\n",
    "else:\n",
    "    print(\"❌ Pipeline failed. Please fix the errors before proceeding.\")"
   ]
  },
  {
   "cell_type": "markdown",
   "id": "d97ed15b-30c8-426b-9b0e-a7c67e120fa5",
   "metadata": {
    "jp-MarkdownHeadingCollapsed": true
   },
   "source": [
    "## Export insert sql script to file"
   ]
  },
  {
   "cell_type": "code",
   "execution_count": null,
   "id": "75ddd0fc-2329-4cd5-b805-76c4212f17cb",
   "metadata": {
    "jupyter": {
     "source_hidden": true
    }
   },
   "outputs": [],
   "source": [
    "# Generate SQL script to insert to the database table (Optional)\n",
    "export_sql_script(\n",
    "    schema= \"yanki_oltp\",\n",
    "    tables= oltp_tables,\n",
    "    foreign_keys= fk_dict,\n",
    "    output_sql_path= \"sqlscript/yanki_insert.sql\"\n",
    ")"
   ]
  },
  {
   "cell_type": "markdown",
   "id": "58019d95-d410-4365-a1a6-09821b5a455c",
   "metadata": {},
   "source": [
    "## Visualise ERD"
   ]
  },
  {
   "cell_type": "code",
   "execution_count": null,
   "id": "6b90b3a5-ec0f-456d-8ed3-a254d6f217f2",
   "metadata": {},
   "outputs": [],
   "source": [
    "if \"olap\" not in cfg:\n",
    "    print(\"✅ OLTP-only model. Displaying OLTP ERD...\")\n",
    "    complete_erd = generate_erd_graph(fk_dict, sk_dict=pk_dict, title=f\"{dataset_key} - OLTP Model\")\n",
    "    display(complete_erd)\n",
    "else:\n",
    "    print(\"📊 Displaying complete OLTP/OLAP model...\")\n",
    "    complete_erd = generate_erd_graph(\n",
    "        fk_dict={**cfg[\"oltp\"][\"foreign_keys\"], **cfg[\"olap\"][\"olap_foreign_keys\"]},\n",
    "        schema_type=\"both\",\n",
    "        sk_dict=sk_dict,\n",
    "        title=\"Complete Data Model\"\n",
    "    )\n",
    "    display(complete_erd)"
   ]
  },
  {
   "cell_type": "code",
   "execution_count": null,
   "id": "b9bd1c56-c330-4dd7-a9b6-281c3109c42f",
   "metadata": {
    "scrolled": true
   },
   "outputs": [],
   "source": [
    "oltp_erd = generate_erd_graph(fk_dict, sk_dict=pk_dict, title=f\"{dataset_key} - OLTP ERD\")\n",
    "display(oltp_erd)"
   ]
  },
  {
   "cell_type": "code",
   "execution_count": null,
   "id": "699207a4-aa1f-4e26-b338-933f0920b899",
   "metadata": {
    "scrolled": true
   },
   "outputs": [],
   "source": [
    "# For OLAP ERD \n",
    "if \"olap\" not in cfg:\n",
    "    print(\"✅ OLTP pipeline completed. No OLAP schema configured.\")\n",
    "else:\n",
    "    olap_erd = generate_erd_graph(cfg[\"olap_foreign_keys\"], title=f\"{dataset_key} - OLAP ERD\")\n",
    "    display(olap_erd)"
   ]
  },
  {
   "cell_type": "code",
   "execution_count": null,
   "id": "5bff600c-8f57-47ef-b672-46403a47a9e8",
   "metadata": {},
   "outputs": [],
   "source": []
  }
 ],
 "metadata": {
  "kernelspec": {
   "display_name": "pyspark-env",
   "language": "python",
   "name": "pyspark-env"
  },
  "language_info": {
   "codemirror_mode": {
    "name": "ipython",
    "version": 3
   },
   "file_extension": ".py",
   "mimetype": "text/x-python",
   "name": "python",
   "nbconvert_exporter": "python",
   "pygments_lexer": "ipython3",
   "version": "3.11.5"
  },
  "widgets": {
   "application/vnd.jupyter.widget-state+json": {
    "state": {},
    "version_major": 2,
    "version_minor": 0
   }
  }
 },
 "nbformat": 4,
 "nbformat_minor": 5
}
